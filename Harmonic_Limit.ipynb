{
 "cells": [
  {
   "cell_type": "code",
   "execution_count": 27,
   "metadata": {},
   "outputs": [],
   "source": [
    "%matplotlib widget\n",
    "import matplotlib.pyplot as plt\n",
    "import numpy as np\n",
    "# from scipy.constants import hbar\n",
    "\n",
    "from matplotlib import cm\n",
    "from matplotlib.ticker import LinearLocator\n",
    "\n",
    "import ipywidgets as widgets"
   ]
  },
  {
   "cell_type": "code",
   "execution_count": 38,
   "metadata": {},
   "outputs": [],
   "source": [
    "def Wigner0(x, p, hbar) :\n",
    "    a = np.sqrt(hbar); h = 2*np.pi*hbar\n",
    "    return 2/h * np.exp( -a*a*p*p/(hbar*hbar) - x*x/(a*a) )\n",
    "\n",
    "def Wigner1(x, p, hbar) :\n",
    "    a = np.sqrt(hbar); h = 2*np.pi*hbar\n",
    "    return 2/h * (-1 + 2*(a*p/hbar)*(a*p/hbar) + 2*(x/a)*(x/a)) * np.exp(-a*a*p*p/(hbar*hbar) - x*x/(a*a))"
   ]
  },
  {
   "cell_type": "code",
   "execution_count": 36,
   "metadata": {},
   "outputs": [],
   "source": [
    "def plot(hbar) :\n",
    "    fig, ax = plt.subplots(subplot_kw={\"projection\": \"3d\"})\n",
    "\n",
    "    # Make data.\n",
    "    x = np.arange(-0.2, 0.2, 0.001)\n",
    "    p = np.arange(-0.2, 0.2, 0.001)\n",
    "    x, p = np.meshgrid(x, p)\n",
    "\n",
    "    W = Wigner0(x, p, hbar)\n",
    "\n",
    "    # Plot the surface.\n",
    "    surf = ax.plot_surface(x, p, W, cmap=cm.coolwarm,\n",
    "                        linewidth=0, antialiased=False)\n",
    "\n",
    "    # Customize the z axis.\n",
    "    # ax.set_zlim(0, 2)\n",
    "    ax.zaxis.set_major_locator(LinearLocator(10))\n",
    "    # A StrMethodFormatter is used automatically\n",
    "    ax.zaxis.set_major_formatter('{x:.02f}')\n",
    "    ax.set_xlabel(\"x\")\n",
    "    ax.set_ylabel(\"p\")\n",
    "    ax.set_zlabel(\"W\")\n",
    "    ax.set_title(\"hbar = \"+str(hbar))\n",
    "\n",
    "    # Add a color bar which maps values to colors.\n",
    "    fig.colorbar(surf, shrink=0.5, aspect=5)\n",
    "    plt.show()"
   ]
  },
  {
   "cell_type": "code",
   "execution_count": 40,
   "metadata": {},
   "outputs": [
    {
     "data": {
      "application/vnd.jupyter.widget-view+json": {
       "model_id": "ddd7a43fe5e945aaaa29b9d56e2793f7",
       "version_major": 2,
       "version_minor": 0
      },
      "text/plain": [
       "interactive(children=(FloatSlider(value=0.0005000000000000001, description='hbar', max=0.001, min=1e-05, step=…"
      ]
     },
     "metadata": {},
     "output_type": "display_data"
    },
    {
     "data": {
      "text/plain": [
       "<function __main__.plot(hbar)>"
      ]
     },
     "execution_count": 40,
     "metadata": {},
     "output_type": "execute_result"
    }
   ],
   "source": [
    "widgets.interact(plot, hbar=(1e-5, 1e-3, 1e-5))"
   ]
  }
 ],
 "metadata": {
  "kernelspec": {
   "display_name": "Python 3 (ipykernel)",
   "language": "python",
   "name": "python3"
  },
  "language_info": {
   "codemirror_mode": {
    "name": "ipython",
    "version": 3
   },
   "file_extension": ".py",
   "mimetype": "text/x-python",
   "name": "python",
   "nbconvert_exporter": "python",
   "pygments_lexer": "ipython3",
   "version": "3.9.5"
  }
 },
 "nbformat": 4,
 "nbformat_minor": 4
}
