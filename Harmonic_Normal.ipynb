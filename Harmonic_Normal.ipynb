{
 "cells": [
  {
   "cell_type": "code",
   "execution_count": 1,
   "metadata": {},
   "outputs": [],
   "source": [
    "%matplotlib widget\n",
    "import matplotlib.pyplot as plt\n",
    "import numpy as np\n",
    "# from scipy.constants import hbar\n",
    "\n",
    "from matplotlib import cm\n",
    "from matplotlib.ticker import LinearLocator\n",
    "\n",
    "import ipywidgets as widgets"
   ]
  },
  {
   "cell_type": "code",
   "execution_count": 2,
   "metadata": {},
   "outputs": [],
   "source": [
    "h = 1\n",
    "hbar = h/(2*np.pi)\n",
    "\n",
    "def Wigner0(x, p, a) :\n",
    "    return 2/h * np.exp( -a*a*p*p/(hbar*hbar) - x*x/(a*a) )\n",
    "\n",
    "def Wigner1(x, p, a) :\n",
    "    return 2/h * (-1 + 2*(a*p/hbar)*(a*p/hbar) + 2*(x/a)*(x/a)) * np.exp(-a*a*p*p/(hbar*hbar) - x*x/(a*a))"
   ]
  },
  {
   "cell_type": "code",
   "execution_count": 3,
   "metadata": {},
   "outputs": [],
   "source": [
    "# @widgets.interact(a=(.1, 3, .1))\n",
    "def plot(a=1) :\n",
    "    fig, ax = plt.subplots(subplot_kw={\"projection\": \"3d\"})\n",
    "\n",
    "    # Make data.\n",
    "    x = np.arange(-2, 2, 0.01)\n",
    "    p = np.arange(-0.2, 0.2, 0.001)\n",
    "    x, p = np.meshgrid(x, p)\n",
    "\n",
    "\n",
    "    W = Wigner0(x, p, a)\n",
    "\n",
    "    # Plot the surface.\n",
    "    surf = ax.plot_surface(x, p, W, cmap=cm.coolwarm,\n",
    "                        linewidth=0, antialiased=False)\n",
    "\n",
    "    # Customize the z axis.\n",
    "    ax.set_zlim(0, 2)\n",
    "    ax.zaxis.set_major_locator(LinearLocator(10))\n",
    "    # A StrMethodFormatter is used automatically\n",
    "    ax.zaxis.set_major_formatter('{x:.02f}')\n",
    "    ax.set_xlabel(\"x\")\n",
    "    ax.set_ylabel(\"p\")\n",
    "    ax.set_zlabel(\"W\")\n",
    "    ax.set_title(\"a = \"+str(a))\n",
    "\n",
    "    # Add a color bar which maps values to colors.\n",
    "    fig.colorbar(surf, shrink=0.5, aspect=5)\n",
    "    plt.show()"
   ]
  },
  {
   "cell_type": "code",
   "execution_count": 4,
   "metadata": {},
   "outputs": [
    {
     "data": {
      "application/vnd.jupyter.widget-view+json": {
       "model_id": "941e3ad753f141f9a2e70e3666119c4e",
       "version_major": 2,
       "version_minor": 0
      },
      "text/plain": [
       "interactive(children=(FloatSlider(value=1.0, description='a', max=10.0, min=0.1), Output()), _dom_classes=('wi…"
      ]
     },
     "metadata": {},
     "output_type": "display_data"
    },
    {
     "data": {
      "text/plain": [
       "'\\n0 < a < 1 : the bell changes along the p-direction\\na > 1 : the bell changes along the x-direction\\n'"
      ]
     },
     "execution_count": 4,
     "metadata": {},
     "output_type": "execute_result"
    }
   ],
   "source": [
    "widgets.interact(plot, a=(.1, 10, .1))\n",
    "'''\n",
    "0 < a < 1 : the bell changes along the p-direction\n",
    "a > 1 : the bell changes along the x-direction\n",
    "'''\n",
    "# widgets.interact(plot, a=widgets.Play(min=1, max=10))"
   ]
  },
  {
   "cell_type": "code",
   "execution_count": 5,
   "metadata": {},
   "outputs": [],
   "source": [
    "x = np.arange(-2, 2, 0.01)\n",
    "p = np.arange(-0.2, 0.2, 0.001)\n",
    "x, p = np.meshgrid(x, p)\n",
    "a = 1\n",
    "W = Wigner0(x, p, a)\n",
    "Ma = max([max(abs(col)) for col in W])\n",
    "mi = min([min(abs(col)) for col in W])"
   ]
  }
 ],
 "metadata": {
  "kernelspec": {
   "display_name": "Python 3 (ipykernel)",
   "language": "python",
   "name": "python3"
  },
  "language_info": {
   "codemirror_mode": {
    "name": "ipython",
    "version": 3
   },
   "file_extension": ".py",
   "mimetype": "text/x-python",
   "name": "python",
   "nbconvert_exporter": "python",
   "pygments_lexer": "ipython3",
   "version": "3.9.5"
  }
 },
 "nbformat": 4,
 "nbformat_minor": 4
}
