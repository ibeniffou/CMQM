{
 "cells": [
  {
   "cell_type": "code",
   "execution_count": 1,
   "metadata": {},
   "outputs": [],
   "source": [
    "%matplotlib widget\n",
    "import matplotlib.pyplot as plt\n",
    "from matplotlib import cm\n",
    "import numpy as np\n",
    "from matplotlib.ticker import LinearLocator\n",
    "import ipywidgets as widgets"
   ]
  },
  {
   "cell_type": "code",
   "execution_count": 2,
   "metadata": {},
   "outputs": [],
   "source": [
    "def Wigner(x, p, t, hbar) :\n",
    "    h = 2*np.pi*hbar\n",
    "    a = m = 1\n",
    "    W = np.zeros((len(x), len(p)))\n",
    "    for i in range(len(x)) :\n",
    "        for j in range(len(p)) :\n",
    "            W[i][j] = 2/h * np.exp(-2*a*(p[j]*t-m*x[i])*(p[j]*t-m*x[i])/(m*m) - p[j]*p[j]/(2*a*hbar*hbar))\n",
    "    return W"
   ]
  },
  {
   "cell_type": "code",
   "execution_count": 3,
   "metadata": {},
   "outputs": [],
   "source": [
    "def plot(hbar=1) :\n",
    "    x = np.linspace(-14,14,1000)\n",
    "    p = np.linspace(-14,14,1000)\n",
    "\n",
    "    t = 0\n",
    "\n",
    "    W = Wigner(x,p,t,hbar); W = W.T\n",
    "\n",
    "    Ma = max([max(abs(col)) for col in W])\n",
    "    mi = min([min(abs(col)) for col in W])\n",
    "    \n",
    "    X, P = np.meshgrid(x, p)\n",
    "\n",
    "    # Plot the surface.\n",
    "    fig, ax = plt.subplots(subplot_kw={\"projection\": \"3d\"})\n",
    "\n",
    "    surf = ax.plot_surface(X, P, W, cmap=cm.coolwarm,\n",
    "                        linewidth=0, antialiased=False)\n",
    "\n",
    "    # Customize the z axis.\n",
    "    ax.set_zlim(mi, Ma)\n",
    "    ax.zaxis.set_major_locator(LinearLocator(10))\n",
    "    # A StrMethodFormatter is used automatically\n",
    "    ax.zaxis.set_major_formatter('{x:.02f}')\n",
    "    ax.set_xlabel(\"x\")\n",
    "    ax.set_ylabel(\"p\")\n",
    "    ax.set_zlabel(\"W\")\n",
    "    ax.set_title(\"hbar = \"+str(hbar))\n",
    "\n",
    "    # Add a color bar which maps values to colors.\n",
    "    fig.colorbar(surf, shrink=0.5, aspect=5)\n",
    "    plt.show()"
   ]
  },
  {
   "cell_type": "code",
   "execution_count": 4,
   "metadata": {},
   "outputs": [
    {
     "data": {
      "application/vnd.jupyter.widget-view+json": {
       "model_id": "7240934971f74deeb51315f6694bcbaf",
       "version_major": 2,
       "version_minor": 0
      },
      "text/plain": [
       "interactive(children=(FloatSlider(value=1.0, description='hbar', max=1.0, step=0.01), Output()), _dom_classes=…"
      ]
     },
     "metadata": {},
     "output_type": "display_data"
    },
    {
     "data": {
      "text/plain": [
       "<function __main__.plot(hbar=1)>"
      ]
     },
     "execution_count": 4,
     "metadata": {},
     "output_type": "execute_result"
    }
   ],
   "source": [
    "widgets.interact(plot, hbar=(0, 1, .01))"
   ]
  }
 ],
 "metadata": {
  "kernelspec": {
   "display_name": "Python 3",
   "language": "python",
   "name": "python3"
  },
  "language_info": {
   "codemirror_mode": {
    "name": "ipython",
    "version": 3
   },
   "file_extension": ".py",
   "mimetype": "text/x-python",
   "name": "python",
   "nbconvert_exporter": "python",
   "pygments_lexer": "ipython3",
   "version": "3.9.5"
  }
 },
 "nbformat": 4,
 "nbformat_minor": 2
}
