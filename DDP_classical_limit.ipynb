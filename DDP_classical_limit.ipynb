{
 "cells": [
  {
   "cell_type": "code",
   "execution_count": 1,
   "metadata": {},
   "outputs": [],
   "source": [
    "%matplotlib widget\n",
    "import matplotlib.pyplot as plt\n",
    "import numpy as np\n",
    "\n",
    "from matplotlib import cm\n",
    "from matplotlib.ticker import LinearLocator\n",
    "from scipy.integrate import quad\n",
    "from scipy.special import lambertw\n",
    "import ipywidgets as widgets"
   ]
  },
  {
   "cell_type": "code",
   "execution_count": 2,
   "metadata": {},
   "outputs": [],
   "source": [
    "# Parameters\n",
    "q = R = 1\n",
    "d = q + lambertw(R*q*np.exp(-q*R))/R"
   ]
  },
  {
   "cell_type": "code",
   "execution_count": 3,
   "metadata": {},
   "outputs": [
    {
     "name": "stderr",
     "output_type": "stream",
     "text": [
      "c:\\Users\\Ibrahim\\AppData\\Local\\Programs\\Python\\Python39\\lib\\site-packages\\scipy\\integrate\\_quadpack_py.py:525: ComplexWarning: Casting complex values to real discards the imaginary part\n",
      "  return _quadpack._qagie(func,bound,infbounds,args,full_output,epsabs,epsrel,limit)\n"
     ]
    }
   ],
   "source": [
    "def psi_before(x) :\n",
    "    return np.exp(-d*abs(x + 0.5*R)) + np.exp(-d*abs(x - 0.5*R))\n",
    "\n",
    "def integrand(x) :\n",
    "    return psi_before(x)*np.conjugate(psi_before(x))\n",
    "\n",
    "normalization = quad(integrand, -np.inf, np.inf)[0]"
   ]
  },
  {
   "cell_type": "code",
   "execution_count": 4,
   "metadata": {},
   "outputs": [],
   "source": [
    "def psi(x) :\n",
    "    return 1/np.sqrt(normalization) * (np.exp(-d*abs(x + 0.5*R)) + np.exp(-d*abs(x - 0.5*R)))\n",
    "\n",
    "def fun(u, x, p, hbar) :\n",
    "    return psi(x + u/2) * np.conjugate(psi(x - u/2)) * np.exp(-1j*p*u/hbar)\n"
   ]
  },
  {
   "cell_type": "code",
   "execution_count": 5,
   "metadata": {},
   "outputs": [],
   "source": [
    "def Wigner(x, p, hbar) :\n",
    "    W = np.zeros((len(x), len(p)))\n",
    "    for i in range(len(x)) :\n",
    "        for j in range(len(p)) :\n",
    "            W[i][j] = quad(fun, -np.inf, np.inf, args=(x[i], p[j], hbar))[0]\n",
    "    return 1/(2*np.pi*hbar) * W"
   ]
  },
  {
   "cell_type": "code",
   "execution_count": 6,
   "metadata": {},
   "outputs": [],
   "source": [
    "def plot(hbar=1) :\n",
    "    x = np.arange(-2, 2, 0.1)\n",
    "    p = np.arange(-1, 1, 0.1)\n",
    "\n",
    "    W = Wigner(x,p,hbar); W = W.T\n",
    "\n",
    "    Ma = max([max(col) for col in W])\n",
    "    mi = min([min(col) for col in W])\n",
    "\n",
    "    X, P = np.meshgrid(x, p)\n",
    "\n",
    "    # Plot the surface.\n",
    "    fig, ax = plt.subplots(subplot_kw={\"projection\": \"3d\"})\n",
    "\n",
    "    surf = ax.plot_surface(X, P, W, cmap=cm.coolwarm,\n",
    "                        linewidth=0, antialiased=False)\n",
    "\n",
    "    # Customize the z axis.\n",
    "    ax.set_zlim(mi, Ma)\n",
    "    ax.zaxis.set_major_locator(LinearLocator(10))\n",
    "    # A StrMethodFormatter is used automatically\n",
    "    ax.zaxis.set_major_formatter('{x:.02f}')\n",
    "    ax.set_xlabel(\"x\")\n",
    "    ax.set_ylabel(\"p\")\n",
    "    ax.set_zlabel(\"W\")\n",
    "    ax.set_title(\"hbar = \"+str(hbar))\n",
    "\n",
    "    # Add a color bar which maps values to colors.\n",
    "    fig.colorbar(surf, shrink=0.5, aspect=5)\n",
    "    plt.show()"
   ]
  },
  {
   "cell_type": "code",
   "execution_count": 7,
   "metadata": {},
   "outputs": [
    {
     "data": {
      "application/vnd.jupyter.widget-view+json": {
       "model_id": "cc78f1da5a544572a60e76c8f2f05ece",
       "version_major": 2,
       "version_minor": 0
      },
      "text/plain": [
       "interactive(children=(FloatSlider(value=0.5, description='hbar', max=0.5, min=0.01, step=0.01), Output()), _do…"
      ]
     },
     "metadata": {},
     "output_type": "display_data"
    },
    {
     "data": {
      "text/plain": [
       "<function __main__.plot(hbar=1)>"
      ]
     },
     "execution_count": 7,
     "metadata": {},
     "output_type": "execute_result"
    }
   ],
   "source": [
    "widgets.interact(plot, hbar=(.01, .5, .01))"
   ]
  }
 ],
 "metadata": {
  "kernelspec": {
   "display_name": "Python 3",
   "language": "python",
   "name": "python3"
  },
  "language_info": {
   "codemirror_mode": {
    "name": "ipython",
    "version": 3
   },
   "file_extension": ".py",
   "mimetype": "text/x-python",
   "name": "python",
   "nbconvert_exporter": "python",
   "pygments_lexer": "ipython3",
   "version": "3.9.5"
  }
 },
 "nbformat": 4,
 "nbformat_minor": 2
}
